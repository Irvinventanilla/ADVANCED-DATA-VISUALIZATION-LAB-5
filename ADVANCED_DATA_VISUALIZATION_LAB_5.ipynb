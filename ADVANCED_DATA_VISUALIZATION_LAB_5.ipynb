{
  "nbformat": 4,
  "nbformat_minor": 0,
  "metadata": {
    "colab": {
      "provenance": [],
      "authorship_tag": "ABX9TyOmCqBUT7zl4ICkPEOxAjp9",
      "include_colab_link": true
    },
    "kernelspec": {
      "name": "python3",
      "display_name": "Python 3"
    },
    "language_info": {
      "name": "python"
    }
  },
  "cells": [
    {
      "cell_type": "markdown",
      "metadata": {
        "id": "view-in-github",
        "colab_type": "text"
      },
      "source": [
        "<a href=\"https://colab.research.google.com/github/Irvinventanilla/ADVANCED-DATA-VISUALIZATION-LAB-5/blob/main/ADVANCED_DATA_VISUALIZATION_LAB_5.ipynb\" target=\"_parent\"><img src=\"https://colab.research.google.com/assets/colab-badge.svg\" alt=\"Open In Colab\"/></a>"
      ]
    },
    {
      "cell_type": "code",
      "execution_count": null,
      "metadata": {
        "colab": {
          "base_uri": "https://localhost:8080/"
        },
        "id": "BgkdBMasg1UP",
        "outputId": "3304bb45-ca3a-427a-c005-adfa1e983a4b"
      },
      "outputs": [
        {
          "name": "stdout",
          "output_type": "stream",
          "text": [
            "10.2\n"
          ]
        }
      ],
      "source": [
        "num1 = float(input())"
      ]
    },
    {
      "cell_type": "code",
      "source": [
        "choice = int(input(\"Enter your choice:\"))\n",
        "print(\"Enter two numbers: \")\n",
        "num1 = float(input())\n",
        "num2 = float(input())\n",
        "\n",
        "if choice == 1:\n",
        "  res = num1 + num2\n",
        "  print(\"Result = \", res)\n",
        "\n",
        "elif choice == 2:\n",
        "  res = num1 - num2\n",
        "  print(\"Result = \", res)\n",
        "\n",
        "elif choice == 3:\n",
        "  res = num1 * num2\n",
        "  print(\"Result = \", res)\n",
        "\n",
        "elif choice == 4:\n",
        "  res = num1 / num2\n",
        "  print(\"Result = \", res)\n",
        "\n",
        "elif choice == 5:\n",
        "  exit()\n",
        "else: \n",
        "  print(\"Wrong input..!!\")\n",
        "\n"
      ],
      "metadata": {
        "colab": {
          "base_uri": "https://localhost:8080/"
        },
        "id": "9uEyV_G1hxUr",
        "outputId": "29c111ba-164d-475c-d462-e82ec67ad457"
      },
      "execution_count": 4,
      "outputs": [
        {
          "name": "stdout",
          "output_type": "stream",
          "text": [
            "Enter your choice:5\n",
            "Enter two numbers: \n",
            "10\n",
            "5\n"
          ]
        }
      ]
    }
  ]
}